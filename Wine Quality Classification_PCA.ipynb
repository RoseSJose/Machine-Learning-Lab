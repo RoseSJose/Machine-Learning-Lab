{
 "cells": [
  {
   "cell_type": "markdown",
   "id": "f0585ef5",
   "metadata": {},
   "source": [
    "#### B190839CS Rose S Jose"
   ]
  },
  {
   "cell_type": "code",
   "execution_count": 1,
   "id": "1b8cec6b",
   "metadata": {},
   "outputs": [
    {
     "data": {
      "text/plain": [
       "'/home/guest'"
      ]
     },
     "execution_count": 1,
     "metadata": {},
     "output_type": "execute_result"
    }
   ],
   "source": [
    "pwd"
   ]
  },
  {
   "cell_type": "code",
   "execution_count": 2,
   "id": "ff04d597",
   "metadata": {},
   "outputs": [
    {
     "name": "stdout",
     "output_type": "stream",
     "text": [
      "/home/guest/Downloads\n"
     ]
    }
   ],
   "source": [
    "cd \\Downloads"
   ]
  },
  {
   "cell_type": "code",
   "execution_count": 3,
   "id": "96b2324a",
   "metadata": {},
   "outputs": [],
   "source": [
    "import numpy as np\n",
    "import pandas as pd"
   ]
  },
  {
   "cell_type": "code",
   "execution_count": 105,
   "id": "59b68f0b",
   "metadata": {},
   "outputs": [],
   "source": [
    "from sklearn.svm import SVC\n",
    "from sklearn.model_selection import train_test_split\n",
    "from sklearn import metrics"
   ]
  },
  {
   "cell_type": "code",
   "execution_count": 22,
   "id": "c6f06751",
   "metadata": {},
   "outputs": [],
   "source": [
    "dataset_red = pd.DataFrame(pd.read_csv(\"winequality-red.csv\", ';'))\n",
    "dataset_white = pd.DataFrame(pd.read_csv(\"winequality-white.csv\", ';'))"
   ]
  },
  {
   "cell_type": "markdown",
   "id": "64cef058",
   "metadata": {},
   "source": [
    "##### Red Wine"
   ]
  },
  {
   "cell_type": "markdown",
   "id": "e4cc2679",
   "metadata": {},
   "source": [
    "Before PCA"
   ]
  },
  {
   "cell_type": "code",
   "execution_count": 107,
   "id": "f38fd2a2",
   "metadata": {},
   "outputs": [
    {
     "data": {
      "text/html": [
       "<div>\n",
       "<style scoped>\n",
       "    .dataframe tbody tr th:only-of-type {\n",
       "        vertical-align: middle;\n",
       "    }\n",
       "\n",
       "    .dataframe tbody tr th {\n",
       "        vertical-align: top;\n",
       "    }\n",
       "\n",
       "    .dataframe thead th {\n",
       "        text-align: right;\n",
       "    }\n",
       "</style>\n",
       "<table border=\"1\" class=\"dataframe\">\n",
       "  <thead>\n",
       "    <tr style=\"text-align: right;\">\n",
       "      <th></th>\n",
       "      <th>fixed acidity</th>\n",
       "      <th>volatile acidity</th>\n",
       "      <th>citric acid</th>\n",
       "      <th>residual sugar</th>\n",
       "      <th>chlorides</th>\n",
       "      <th>free sulfur dioxide</th>\n",
       "      <th>total sulfur dioxide</th>\n",
       "      <th>density</th>\n",
       "      <th>pH</th>\n",
       "      <th>sulphates</th>\n",
       "      <th>alcohol</th>\n",
       "      <th>quality</th>\n",
       "    </tr>\n",
       "  </thead>\n",
       "  <tbody>\n",
       "    <tr>\n",
       "      <th>0</th>\n",
       "      <td>7.4</td>\n",
       "      <td>0.70</td>\n",
       "      <td>0.00</td>\n",
       "      <td>1.9</td>\n",
       "      <td>0.076</td>\n",
       "      <td>11.0</td>\n",
       "      <td>34.0</td>\n",
       "      <td>0.9978</td>\n",
       "      <td>3.51</td>\n",
       "      <td>0.56</td>\n",
       "      <td>9.4</td>\n",
       "      <td>5</td>\n",
       "    </tr>\n",
       "    <tr>\n",
       "      <th>1</th>\n",
       "      <td>7.8</td>\n",
       "      <td>0.88</td>\n",
       "      <td>0.00</td>\n",
       "      <td>2.6</td>\n",
       "      <td>0.098</td>\n",
       "      <td>25.0</td>\n",
       "      <td>67.0</td>\n",
       "      <td>0.9968</td>\n",
       "      <td>3.20</td>\n",
       "      <td>0.68</td>\n",
       "      <td>9.8</td>\n",
       "      <td>5</td>\n",
       "    </tr>\n",
       "    <tr>\n",
       "      <th>2</th>\n",
       "      <td>7.8</td>\n",
       "      <td>0.76</td>\n",
       "      <td>0.04</td>\n",
       "      <td>2.3</td>\n",
       "      <td>0.092</td>\n",
       "      <td>15.0</td>\n",
       "      <td>54.0</td>\n",
       "      <td>0.9970</td>\n",
       "      <td>3.26</td>\n",
       "      <td>0.65</td>\n",
       "      <td>9.8</td>\n",
       "      <td>5</td>\n",
       "    </tr>\n",
       "    <tr>\n",
       "      <th>3</th>\n",
       "      <td>11.2</td>\n",
       "      <td>0.28</td>\n",
       "      <td>0.56</td>\n",
       "      <td>1.9</td>\n",
       "      <td>0.075</td>\n",
       "      <td>17.0</td>\n",
       "      <td>60.0</td>\n",
       "      <td>0.9980</td>\n",
       "      <td>3.16</td>\n",
       "      <td>0.58</td>\n",
       "      <td>9.8</td>\n",
       "      <td>6</td>\n",
       "    </tr>\n",
       "    <tr>\n",
       "      <th>4</th>\n",
       "      <td>7.4</td>\n",
       "      <td>0.70</td>\n",
       "      <td>0.00</td>\n",
       "      <td>1.9</td>\n",
       "      <td>0.076</td>\n",
       "      <td>11.0</td>\n",
       "      <td>34.0</td>\n",
       "      <td>0.9978</td>\n",
       "      <td>3.51</td>\n",
       "      <td>0.56</td>\n",
       "      <td>9.4</td>\n",
       "      <td>5</td>\n",
       "    </tr>\n",
       "  </tbody>\n",
       "</table>\n",
       "</div>"
      ],
      "text/plain": [
       "   fixed acidity  volatile acidity  citric acid  residual sugar  chlorides  \\\n",
       "0            7.4              0.70         0.00             1.9      0.076   \n",
       "1            7.8              0.88         0.00             2.6      0.098   \n",
       "2            7.8              0.76         0.04             2.3      0.092   \n",
       "3           11.2              0.28         0.56             1.9      0.075   \n",
       "4            7.4              0.70         0.00             1.9      0.076   \n",
       "\n",
       "   free sulfur dioxide  total sulfur dioxide  density    pH  sulphates  \\\n",
       "0                 11.0                  34.0   0.9978  3.51       0.56   \n",
       "1                 25.0                  67.0   0.9968  3.20       0.68   \n",
       "2                 15.0                  54.0   0.9970  3.26       0.65   \n",
       "3                 17.0                  60.0   0.9980  3.16       0.58   \n",
       "4                 11.0                  34.0   0.9978  3.51       0.56   \n",
       "\n",
       "   alcohol  quality  \n",
       "0      9.4        5  \n",
       "1      9.8        5  \n",
       "2      9.8        5  \n",
       "3      9.8        6  \n",
       "4      9.4        5  "
      ]
     },
     "execution_count": 107,
     "metadata": {},
     "output_type": "execute_result"
    }
   ],
   "source": [
    "dataset_red.head()"
   ]
  },
  {
   "cell_type": "code",
   "execution_count": 11,
   "id": "3cbb46c9",
   "metadata": {},
   "outputs": [
    {
     "data": {
      "text/plain": [
       "Index(['fixed acidity;\"volatile acidity\";\"citric acid\";\"residual sugar\";\"chlorides\";\"free sulfur dioxide\";\"total sulfur dioxide\";\"density\";\"pH\";\"sulphates\";\"alcohol\";\"quality\"'], dtype='object')"
      ]
     },
     "execution_count": 11,
     "metadata": {},
     "output_type": "execute_result"
    }
   ],
   "source": [
    "dataset_red.columns"
   ]
  },
  {
   "cell_type": "code",
   "execution_count": 23,
   "id": "81d21bce",
   "metadata": {},
   "outputs": [],
   "source": [
    "data = np.array(dataset_red)"
   ]
  },
  {
   "cell_type": "code",
   "execution_count": 52,
   "id": "856c354e",
   "metadata": {},
   "outputs": [],
   "source": [
    "X = data[:, 0:11]\n",
    "Y = data[:, 11]"
   ]
  },
  {
   "cell_type": "code",
   "execution_count": 53,
   "id": "8b113859",
   "metadata": {},
   "outputs": [
    {
     "data": {
      "text/plain": [
       "(array([[ 7.4  ,  0.7  ,  0.   , ...,  3.51 ,  0.56 ,  9.4  ],\n",
       "        [ 7.8  ,  0.88 ,  0.   , ...,  3.2  ,  0.68 ,  9.8  ],\n",
       "        [ 7.8  ,  0.76 ,  0.04 , ...,  3.26 ,  0.65 ,  9.8  ],\n",
       "        ...,\n",
       "        [ 6.3  ,  0.51 ,  0.13 , ...,  3.42 ,  0.75 , 11.   ],\n",
       "        [ 5.9  ,  0.645,  0.12 , ...,  3.57 ,  0.71 , 10.2  ],\n",
       "        [ 6.   ,  0.31 ,  0.47 , ...,  3.39 ,  0.66 , 11.   ]]),\n",
       " array([5., 5., 5., ..., 6., 5., 6.]))"
      ]
     },
     "execution_count": 53,
     "metadata": {},
     "output_type": "execute_result"
    }
   ],
   "source": [
    "X, Y"
   ]
  },
  {
   "cell_type": "code",
   "execution_count": 112,
   "id": "198fbf70",
   "metadata": {},
   "outputs": [
    {
     "data": {
      "text/plain": [
       "SVC(kernel='linear')"
      ]
     },
     "execution_count": 112,
     "metadata": {},
     "output_type": "execute_result"
    }
   ],
   "source": [
    "model_beforepca = SVC(kernel=\"linear\")\n",
    "model_beforepca.fit(X, Y)"
   ]
  },
  {
   "cell_type": "code",
   "execution_count": 113,
   "id": "dadb4c46",
   "metadata": {},
   "outputs": [],
   "source": [
    "y_pred = model_beforepca.predict(X)"
   ]
  },
  {
   "cell_type": "code",
   "execution_count": 114,
   "id": "b942aa36",
   "metadata": {},
   "outputs": [
    {
     "data": {
      "text/plain": [
       "0.5897435897435898"
      ]
     },
     "execution_count": 114,
     "metadata": {},
     "output_type": "execute_result"
    }
   ],
   "source": [
    "metrics.accuracy_score(Y, y_pred)"
   ]
  },
  {
   "cell_type": "code",
   "execution_count": 97,
   "id": "4688790b",
   "metadata": {},
   "outputs": [],
   "source": [
    "def PCA(X):\n",
    "    meaned_dataset = X-np.mean(X, axis = 0) #subtracting mean from the dataset\n",
    "    dataset_cov = np.cov(meaned_dataset, rowvar=False) #finding the covariance matrix\n",
    "    eigen_values, eigen_vectors = np.linalg.eigh(dataset_cov)# finding eigenvalues and eigenvectors of covariance matrix\n",
    "    sortedindex = np.argsort(eigen_values)[::-1] #sorting the eigen values\n",
    "    sorted_eigenvectors = eigen_vectors[:, sortedindex]\n",
    "    principal_component= 5 # selecting principal components\n",
    "    eigenvector_subset = sorted_eigenvectors[:, 0:principal_component]\n",
    "    X_r = np.dot(dataset_mean, eigenvector_subset) # transformed dataset\n",
    "    return X_r"
   ]
  },
  {
   "cell_type": "code",
   "execution_count": 98,
   "id": "6e6a26e2",
   "metadata": {},
   "outputs": [],
   "source": [
    "X_red_pca = PCA(X)"
   ]
  },
  {
   "cell_type": "code",
   "execution_count": 101,
   "id": "f5dac7ec",
   "metadata": {},
   "outputs": [
    {
     "data": {
      "text/plain": [
       "SVC(kernel='linear')"
      ]
     },
     "execution_count": 101,
     "metadata": {},
     "output_type": "execute_result"
    }
   ],
   "source": [
    "model_linear = SVC(kernel=\"linear\")\n",
    "model_linear.fit(X_red_pca, Y)"
   ]
  },
  {
   "cell_type": "code",
   "execution_count": 104,
   "id": "f2eef095",
   "metadata": {},
   "outputs": [],
   "source": [
    "y_pred = model_linear.predict(X_red_pca)"
   ]
  },
  {
   "cell_type": "code",
   "execution_count": 106,
   "id": "f05488bb",
   "metadata": {},
   "outputs": [
    {
     "data": {
      "text/plain": [
       "0.574108818011257"
      ]
     },
     "execution_count": 106,
     "metadata": {},
     "output_type": "execute_result"
    }
   ],
   "source": [
    "metrics.accuracy_score(Y, y_pred)"
   ]
  },
  {
   "cell_type": "markdown",
   "id": "1bcda66b",
   "metadata": {},
   "source": [
    "We can see that with or without PCA, the svm model with linear kernel is giving almost equal accuracy. The model after implementing PCA is giving slightly lower accuracy "
   ]
  },
  {
   "cell_type": "markdown",
   "id": "c2d74539",
   "metadata": {},
   "source": [
    "##### White wine"
   ]
  },
  {
   "cell_type": "code",
   "execution_count": 115,
   "id": "95ab3a7e",
   "metadata": {},
   "outputs": [
    {
     "data": {
      "text/html": [
       "<div>\n",
       "<style scoped>\n",
       "    .dataframe tbody tr th:only-of-type {\n",
       "        vertical-align: middle;\n",
       "    }\n",
       "\n",
       "    .dataframe tbody tr th {\n",
       "        vertical-align: top;\n",
       "    }\n",
       "\n",
       "    .dataframe thead th {\n",
       "        text-align: right;\n",
       "    }\n",
       "</style>\n",
       "<table border=\"1\" class=\"dataframe\">\n",
       "  <thead>\n",
       "    <tr style=\"text-align: right;\">\n",
       "      <th></th>\n",
       "      <th>fixed acidity</th>\n",
       "      <th>volatile acidity</th>\n",
       "      <th>citric acid</th>\n",
       "      <th>residual sugar</th>\n",
       "      <th>chlorides</th>\n",
       "      <th>free sulfur dioxide</th>\n",
       "      <th>total sulfur dioxide</th>\n",
       "      <th>density</th>\n",
       "      <th>pH</th>\n",
       "      <th>sulphates</th>\n",
       "      <th>alcohol</th>\n",
       "      <th>quality</th>\n",
       "    </tr>\n",
       "  </thead>\n",
       "  <tbody>\n",
       "    <tr>\n",
       "      <th>0</th>\n",
       "      <td>7.0</td>\n",
       "      <td>0.27</td>\n",
       "      <td>0.36</td>\n",
       "      <td>20.7</td>\n",
       "      <td>0.045</td>\n",
       "      <td>45.0</td>\n",
       "      <td>170.0</td>\n",
       "      <td>1.0010</td>\n",
       "      <td>3.00</td>\n",
       "      <td>0.45</td>\n",
       "      <td>8.8</td>\n",
       "      <td>6</td>\n",
       "    </tr>\n",
       "    <tr>\n",
       "      <th>1</th>\n",
       "      <td>6.3</td>\n",
       "      <td>0.30</td>\n",
       "      <td>0.34</td>\n",
       "      <td>1.6</td>\n",
       "      <td>0.049</td>\n",
       "      <td>14.0</td>\n",
       "      <td>132.0</td>\n",
       "      <td>0.9940</td>\n",
       "      <td>3.30</td>\n",
       "      <td>0.49</td>\n",
       "      <td>9.5</td>\n",
       "      <td>6</td>\n",
       "    </tr>\n",
       "    <tr>\n",
       "      <th>2</th>\n",
       "      <td>8.1</td>\n",
       "      <td>0.28</td>\n",
       "      <td>0.40</td>\n",
       "      <td>6.9</td>\n",
       "      <td>0.050</td>\n",
       "      <td>30.0</td>\n",
       "      <td>97.0</td>\n",
       "      <td>0.9951</td>\n",
       "      <td>3.26</td>\n",
       "      <td>0.44</td>\n",
       "      <td>10.1</td>\n",
       "      <td>6</td>\n",
       "    </tr>\n",
       "    <tr>\n",
       "      <th>3</th>\n",
       "      <td>7.2</td>\n",
       "      <td>0.23</td>\n",
       "      <td>0.32</td>\n",
       "      <td>8.5</td>\n",
       "      <td>0.058</td>\n",
       "      <td>47.0</td>\n",
       "      <td>186.0</td>\n",
       "      <td>0.9956</td>\n",
       "      <td>3.19</td>\n",
       "      <td>0.40</td>\n",
       "      <td>9.9</td>\n",
       "      <td>6</td>\n",
       "    </tr>\n",
       "    <tr>\n",
       "      <th>4</th>\n",
       "      <td>7.2</td>\n",
       "      <td>0.23</td>\n",
       "      <td>0.32</td>\n",
       "      <td>8.5</td>\n",
       "      <td>0.058</td>\n",
       "      <td>47.0</td>\n",
       "      <td>186.0</td>\n",
       "      <td>0.9956</td>\n",
       "      <td>3.19</td>\n",
       "      <td>0.40</td>\n",
       "      <td>9.9</td>\n",
       "      <td>6</td>\n",
       "    </tr>\n",
       "  </tbody>\n",
       "</table>\n",
       "</div>"
      ],
      "text/plain": [
       "   fixed acidity  volatile acidity  citric acid  residual sugar  chlorides  \\\n",
       "0            7.0              0.27         0.36            20.7      0.045   \n",
       "1            6.3              0.30         0.34             1.6      0.049   \n",
       "2            8.1              0.28         0.40             6.9      0.050   \n",
       "3            7.2              0.23         0.32             8.5      0.058   \n",
       "4            7.2              0.23         0.32             8.5      0.058   \n",
       "\n",
       "   free sulfur dioxide  total sulfur dioxide  density    pH  sulphates  \\\n",
       "0                 45.0                 170.0   1.0010  3.00       0.45   \n",
       "1                 14.0                 132.0   0.9940  3.30       0.49   \n",
       "2                 30.0                  97.0   0.9951  3.26       0.44   \n",
       "3                 47.0                 186.0   0.9956  3.19       0.40   \n",
       "4                 47.0                 186.0   0.9956  3.19       0.40   \n",
       "\n",
       "   alcohol  quality  \n",
       "0      8.8        6  \n",
       "1      9.5        6  \n",
       "2     10.1        6  \n",
       "3      9.9        6  \n",
       "4      9.9        6  "
      ]
     },
     "execution_count": 115,
     "metadata": {},
     "output_type": "execute_result"
    }
   ],
   "source": [
    "dataset_white.head()"
   ]
  },
  {
   "cell_type": "code",
   "execution_count": 116,
   "id": "b1987f77",
   "metadata": {},
   "outputs": [],
   "source": [
    "data_white = np.array(dataset_white)"
   ]
  },
  {
   "cell_type": "code",
   "execution_count": 117,
   "id": "20fb4d9e",
   "metadata": {},
   "outputs": [],
   "source": [
    "X_white = data[:, 0:11]\n",
    "Y_white = data[:, 11]"
   ]
  },
  {
   "cell_type": "code",
   "execution_count": 140,
   "id": "580485e9",
   "metadata": {},
   "outputs": [
    {
     "data": {
      "text/plain": [
       "SVC(kernel='linear')"
      ]
     },
     "execution_count": 140,
     "metadata": {},
     "output_type": "execute_result"
    }
   ],
   "source": [
    "model_beforepca_white = SVC(kernel=\"linear\")\n",
    "model_beforepca_white.fit(X_white, Y_white)"
   ]
  },
  {
   "cell_type": "code",
   "execution_count": 141,
   "id": "e723e4d0",
   "metadata": {},
   "outputs": [],
   "source": [
    "y_pred_white_beforepca = model_beforepca_white.predict(X_white)"
   ]
  },
  {
   "cell_type": "code",
   "execution_count": 142,
   "id": "39425a20",
   "metadata": {},
   "outputs": [
    {
     "data": {
      "text/plain": [
       "0.5897435897435898"
      ]
     },
     "execution_count": 142,
     "metadata": {},
     "output_type": "execute_result"
    }
   ],
   "source": [
    "metrics.accuracy_score(Y, y_pred_white_beforepca)"
   ]
  },
  {
   "cell_type": "markdown",
   "id": "51f84acf",
   "metadata": {},
   "source": [
    "We can see that with or without PCA, the svm model with linear kernel is giving almost equal accuracy. The model after implementing PCA is giving slightly higher accuracy "
   ]
  },
  {
   "cell_type": "markdown",
   "id": "e5f60934",
   "metadata": {},
   "source": [
    "##### Implementing PCA"
   ]
  },
  {
   "cell_type": "code",
   "execution_count": 124,
   "id": "4f8457d2",
   "metadata": {},
   "outputs": [],
   "source": [
    "X_white_pca = PCA(X_white)"
   ]
  },
  {
   "cell_type": "code",
   "execution_count": 143,
   "id": "62fd6d90",
   "metadata": {},
   "outputs": [
    {
     "data": {
      "text/plain": [
       "SVC(kernel='linear')"
      ]
     },
     "execution_count": 143,
     "metadata": {},
     "output_type": "execute_result"
    }
   ],
   "source": [
    "model_linear = SVC(kernel=\"linear\")\n",
    "model_linear.fit(X_white_pca, Y_white)"
   ]
  },
  {
   "cell_type": "code",
   "execution_count": 144,
   "id": "bc0ad75b",
   "metadata": {},
   "outputs": [],
   "source": [
    "Y_pred_white = model_linear.predict(X_white_pca)"
   ]
  },
  {
   "cell_type": "code",
   "execution_count": 145,
   "id": "895cb17d",
   "metadata": {},
   "outputs": [
    {
     "data": {
      "text/plain": [
       "0.574108818011257"
      ]
     },
     "execution_count": 145,
     "metadata": {},
     "output_type": "execute_result"
    }
   ],
   "source": [
    "metrics.accuracy_score(Y_pred_white, Y_white)"
   ]
  }
 ],
 "metadata": {
  "kernelspec": {
   "display_name": "Python 3",
   "language": "python",
   "name": "python3"
  },
  "language_info": {
   "codemirror_mode": {
    "name": "ipython",
    "version": 3
   },
   "file_extension": ".py",
   "mimetype": "text/x-python",
   "name": "python",
   "nbconvert_exporter": "python",
   "pygments_lexer": "ipython3",
   "version": "3.8.8"
  }
 },
 "nbformat": 4,
 "nbformat_minor": 5
}
