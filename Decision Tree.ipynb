{
 "cells": [
  {
   "cell_type": "code",
   "execution_count": 1,
   "metadata": {},
   "outputs": [],
   "source": [
    "import numpy as np\n",
    "import pandas as pd\n",
    "eps = np.finfo(float).eps #Machine limits for floating point types.\n",
    "from numpy import log2 as log"
   ]
  },
  {
   "cell_type": "code",
   "execution_count": 2,
   "metadata": {},
   "outputs": [],
   "source": [
    "Alt = 'Yes,Yes,No,Yes,Yes,No,No,No,No,Yes,No,Yes'.split(',')\n",
    "Bar = 'No,No,Yes,No,No,Yes,Yes,No,Yes,Yes,No,Yes'.split(',')\n",
    "Fri = 'No,No,No,Yes,Yes,No,No,No,Yes,Yes,No,Yes'.split(',')\n",
    "Hun = 'Yes,Yes,No,Yes,No,Yes,No,Yes,No,Yes,No,Yes'.split(',')\n",
    "Pat = 'Some,Full,Some,Full,Full,Some,None,Some,Full,Full,None,Full'.split(',')\n",
    "Price = '$$$,$,$,$,$$$,$$,$,$$,$,$$$,$,$'.split(',')\n",
    "Rain = 'No,No,No,No,No,Yes,Yes,Yes,Yes,No,No,No'.split(',')\n",
    "Res = 'Yes,No,No,No,Yes,Yes,No,Yes,No,Yes,No,No'.split(',')\n",
    "Type = 'French,Thai,Burger,Thai,French,Italian,Burger,Thai,Burger,Italian,Thai,Burger'.split(',')\n",
    "Est = '0-10,30-60,0-10,10-30,>60,0-10,0-10,0-10,>60,10-30,0-10,30-60'.split(',')\n",
    "Willwait = 'Yes,No,Yes,Yes,No,Yes,No,Yes,No,No,No,Yes'.split(',')"
   ]
  },
  {
   "cell_type": "code",
   "execution_count": 3,
   "metadata": {},
   "outputs": [],
   "source": [
    "dataset = {'Alt':Alt, 'Bar':Bar, 'Fri':Fri, 'Hun':Hun, 'Pat':Pat, 'Price':Price, 'Rain':Rain, 'Res':Res, 'Type':Type, 'Est':Est, 'Willwait':Willwait}"
   ]
  },
  {
   "cell_type": "code",
   "execution_count": 4,
   "metadata": {},
   "outputs": [
    {
     "data": {
      "text/html": [
       "<div>\n",
       "<style scoped>\n",
       "    .dataframe tbody tr th:only-of-type {\n",
       "        vertical-align: middle;\n",
       "    }\n",
       "\n",
       "    .dataframe tbody tr th {\n",
       "        vertical-align: top;\n",
       "    }\n",
       "\n",
       "    .dataframe thead th {\n",
       "        text-align: right;\n",
       "    }\n",
       "</style>\n",
       "<table border=\"1\" class=\"dataframe\">\n",
       "  <thead>\n",
       "    <tr style=\"text-align: right;\">\n",
       "      <th></th>\n",
       "      <th>Alt</th>\n",
       "      <th>Bar</th>\n",
       "      <th>Fri</th>\n",
       "      <th>Hun</th>\n",
       "      <th>Pat</th>\n",
       "      <th>Price</th>\n",
       "      <th>Rain</th>\n",
       "      <th>Res</th>\n",
       "      <th>Type</th>\n",
       "      <th>Est</th>\n",
       "      <th>Willwait</th>\n",
       "    </tr>\n",
       "  </thead>\n",
       "  <tbody>\n",
       "    <tr>\n",
       "      <td>0</td>\n",
       "      <td>Yes</td>\n",
       "      <td>No</td>\n",
       "      <td>No</td>\n",
       "      <td>Yes</td>\n",
       "      <td>Some</td>\n",
       "      <td>$$$</td>\n",
       "      <td>No</td>\n",
       "      <td>Yes</td>\n",
       "      <td>French</td>\n",
       "      <td>0-10</td>\n",
       "      <td>Yes</td>\n",
       "    </tr>\n",
       "    <tr>\n",
       "      <td>1</td>\n",
       "      <td>Yes</td>\n",
       "      <td>No</td>\n",
       "      <td>No</td>\n",
       "      <td>Yes</td>\n",
       "      <td>Full</td>\n",
       "      <td>$</td>\n",
       "      <td>No</td>\n",
       "      <td>No</td>\n",
       "      <td>Thai</td>\n",
       "      <td>30-60</td>\n",
       "      <td>No</td>\n",
       "    </tr>\n",
       "    <tr>\n",
       "      <td>2</td>\n",
       "      <td>No</td>\n",
       "      <td>Yes</td>\n",
       "      <td>No</td>\n",
       "      <td>No</td>\n",
       "      <td>Some</td>\n",
       "      <td>$</td>\n",
       "      <td>No</td>\n",
       "      <td>No</td>\n",
       "      <td>Burger</td>\n",
       "      <td>0-10</td>\n",
       "      <td>Yes</td>\n",
       "    </tr>\n",
       "    <tr>\n",
       "      <td>3</td>\n",
       "      <td>Yes</td>\n",
       "      <td>No</td>\n",
       "      <td>Yes</td>\n",
       "      <td>Yes</td>\n",
       "      <td>Full</td>\n",
       "      <td>$</td>\n",
       "      <td>No</td>\n",
       "      <td>No</td>\n",
       "      <td>Thai</td>\n",
       "      <td>10-30</td>\n",
       "      <td>Yes</td>\n",
       "    </tr>\n",
       "    <tr>\n",
       "      <td>4</td>\n",
       "      <td>Yes</td>\n",
       "      <td>No</td>\n",
       "      <td>Yes</td>\n",
       "      <td>No</td>\n",
       "      <td>Full</td>\n",
       "      <td>$$$</td>\n",
       "      <td>No</td>\n",
       "      <td>Yes</td>\n",
       "      <td>French</td>\n",
       "      <td>&gt;60</td>\n",
       "      <td>No</td>\n",
       "    </tr>\n",
       "    <tr>\n",
       "      <td>5</td>\n",
       "      <td>No</td>\n",
       "      <td>Yes</td>\n",
       "      <td>No</td>\n",
       "      <td>Yes</td>\n",
       "      <td>Some</td>\n",
       "      <td>$$</td>\n",
       "      <td>Yes</td>\n",
       "      <td>Yes</td>\n",
       "      <td>Italian</td>\n",
       "      <td>0-10</td>\n",
       "      <td>Yes</td>\n",
       "    </tr>\n",
       "    <tr>\n",
       "      <td>6</td>\n",
       "      <td>No</td>\n",
       "      <td>Yes</td>\n",
       "      <td>No</td>\n",
       "      <td>No</td>\n",
       "      <td>None</td>\n",
       "      <td>$</td>\n",
       "      <td>Yes</td>\n",
       "      <td>No</td>\n",
       "      <td>Burger</td>\n",
       "      <td>0-10</td>\n",
       "      <td>No</td>\n",
       "    </tr>\n",
       "    <tr>\n",
       "      <td>7</td>\n",
       "      <td>No</td>\n",
       "      <td>No</td>\n",
       "      <td>No</td>\n",
       "      <td>Yes</td>\n",
       "      <td>Some</td>\n",
       "      <td>$$</td>\n",
       "      <td>Yes</td>\n",
       "      <td>Yes</td>\n",
       "      <td>Thai</td>\n",
       "      <td>0-10</td>\n",
       "      <td>Yes</td>\n",
       "    </tr>\n",
       "    <tr>\n",
       "      <td>8</td>\n",
       "      <td>No</td>\n",
       "      <td>Yes</td>\n",
       "      <td>Yes</td>\n",
       "      <td>No</td>\n",
       "      <td>Full</td>\n",
       "      <td>$</td>\n",
       "      <td>Yes</td>\n",
       "      <td>No</td>\n",
       "      <td>Burger</td>\n",
       "      <td>&gt;60</td>\n",
       "      <td>No</td>\n",
       "    </tr>\n",
       "    <tr>\n",
       "      <td>9</td>\n",
       "      <td>Yes</td>\n",
       "      <td>Yes</td>\n",
       "      <td>Yes</td>\n",
       "      <td>Yes</td>\n",
       "      <td>Full</td>\n",
       "      <td>$$$</td>\n",
       "      <td>No</td>\n",
       "      <td>Yes</td>\n",
       "      <td>Italian</td>\n",
       "      <td>10-30</td>\n",
       "      <td>No</td>\n",
       "    </tr>\n",
       "    <tr>\n",
       "      <td>10</td>\n",
       "      <td>No</td>\n",
       "      <td>No</td>\n",
       "      <td>No</td>\n",
       "      <td>No</td>\n",
       "      <td>None</td>\n",
       "      <td>$</td>\n",
       "      <td>No</td>\n",
       "      <td>No</td>\n",
       "      <td>Thai</td>\n",
       "      <td>0-10</td>\n",
       "      <td>No</td>\n",
       "    </tr>\n",
       "    <tr>\n",
       "      <td>11</td>\n",
       "      <td>Yes</td>\n",
       "      <td>Yes</td>\n",
       "      <td>Yes</td>\n",
       "      <td>Yes</td>\n",
       "      <td>Full</td>\n",
       "      <td>$</td>\n",
       "      <td>No</td>\n",
       "      <td>No</td>\n",
       "      <td>Burger</td>\n",
       "      <td>30-60</td>\n",
       "      <td>Yes</td>\n",
       "    </tr>\n",
       "  </tbody>\n",
       "</table>\n",
       "</div>"
      ],
      "text/plain": [
       "    Alt  Bar  Fri  Hun   Pat Price Rain  Res     Type    Est Willwait\n",
       "0   Yes   No   No  Yes  Some   $$$   No  Yes   French   0-10      Yes\n",
       "1   Yes   No   No  Yes  Full     $   No   No     Thai  30-60       No\n",
       "2    No  Yes   No   No  Some     $   No   No   Burger   0-10      Yes\n",
       "3   Yes   No  Yes  Yes  Full     $   No   No     Thai  10-30      Yes\n",
       "4   Yes   No  Yes   No  Full   $$$   No  Yes   French    >60       No\n",
       "5    No  Yes   No  Yes  Some    $$  Yes  Yes  Italian   0-10      Yes\n",
       "6    No  Yes   No   No  None     $  Yes   No   Burger   0-10       No\n",
       "7    No   No   No  Yes  Some    $$  Yes  Yes     Thai   0-10      Yes\n",
       "8    No  Yes  Yes   No  Full     $  Yes   No   Burger    >60       No\n",
       "9   Yes  Yes  Yes  Yes  Full   $$$   No  Yes  Italian  10-30       No\n",
       "10   No   No   No   No  None     $   No   No     Thai   0-10       No\n",
       "11  Yes  Yes  Yes  Yes  Full     $   No   No   Burger  30-60      Yes"
      ]
     },
     "execution_count": 4,
     "metadata": {},
     "output_type": "execute_result"
    }
   ],
   "source": [
    "df = pd.DataFrame(dataset)\n",
    "df"
   ]
  },
  {
   "cell_type": "code",
   "execution_count": 5,
   "metadata": {},
   "outputs": [],
   "source": [
    "def entropy_dataset(df):\n",
    "    Class = df.keys()[-1]\n",
    "    variables = df[Class].unique()\n",
    "    entropy = 0\n",
    "    for variable in variables:\n",
    "        fraction = df[Class].value_counts()[variable]/len(df[Class])\n",
    "        entropy += -fraction*np.log2(fraction)\n",
    "    return entropy\n",
    "\n",
    "def entropy(fraction):\n",
    "    return -(fraction*log2(fraction) + (1-fraction)*log2(1-fraction))"
   ]
  },
  {
   "cell_type": "code",
   "execution_count": 6,
   "metadata": {},
   "outputs": [
    {
     "data": {
      "text/plain": [
       "1.0"
      ]
     },
     "execution_count": 6,
     "metadata": {},
     "output_type": "execute_result"
    }
   ],
   "source": [
    "entropy_dataset(df)"
   ]
  },
  {
   "cell_type": "code",
   "execution_count": 7,
   "metadata": {},
   "outputs": [
    {
     "data": {
      "text/plain": [
       "3     Full\n",
       "11    Full\n",
       "Name: Pat, dtype: object"
      ]
     },
     "execution_count": 7,
     "metadata": {},
     "output_type": "execute_result"
    }
   ],
   "source": [
    "df['Pat'][df['Pat']=='Full'][df['Willwait']=='Yes']"
   ]
  },
  {
   "cell_type": "code",
   "execution_count": 8,
   "metadata": {},
   "outputs": [
    {
     "data": {
      "text/plain": [
       "array(['Full'], dtype=object)"
      ]
     },
     "execution_count": 8,
     "metadata": {},
     "output_type": "execute_result"
    }
   ],
   "source": [
    "subtable = df[df['Pat'] == 'Full'].reset_index(drop=True)\n",
    "clValue,counts = np.unique(subtable['Pat'],return_counts=True) \n",
    "clValue"
   ]
  },
  {
   "cell_type": "code",
   "execution_count": 9,
   "metadata": {},
   "outputs": [
    {
     "data": {
      "text/plain": [
       "array([6])"
      ]
     },
     "execution_count": 9,
     "metadata": {},
     "output_type": "execute_result"
    }
   ],
   "source": [
    "counts"
   ]
  },
  {
   "cell_type": "code",
   "execution_count": 10,
   "metadata": {},
   "outputs": [],
   "source": [
    "def entropy_attribute(df, attribute):\n",
    "    Class = df.keys()[-1]\n",
    "    variables = df[attribute].unique()\n",
    "    target_variables = df[Class].unique()\n",
    "    entropy_final = 0\n",
    "    for variable in variables:\n",
    "        entropy = 0\n",
    "        for target_variable in target_variables:\n",
    "            num = len(df[attribute][df[attribute]==variable][df[Class]==target_variable])\n",
    "            den = len(df[attribute][df[attribute]==variable])\n",
    "            fraction = num/(den+eps)\n",
    "            entropy += -fraction*log(fraction+eps)\n",
    "        fraction2 = den/len(df)\n",
    "        entropy_final += entropy*fraction2\n",
    "    return abs(entropy_final)\n"
   ]
  },
  {
   "cell_type": "code",
   "execution_count": 11,
   "metadata": {},
   "outputs": [],
   "source": [
    "def find_max_gain(df):\n",
    "    IG = []\n",
    "    for i in df.keys()[:-1]:\n",
    "        IG.append(entropy_dataset(df) - entropy_attribute(df, i))\n",
    "    #print(\"IG:\",IG)\n",
    "    return df.keys()[:-1][np.argmax(IG)]\n"
   ]
  },
  {
   "cell_type": "code",
   "execution_count": 12,
   "metadata": {},
   "outputs": [],
   "source": [
    "def sub_table(df, node, value):\n",
    "    return df[df[node] == value].reset_index(drop=True)"
   ]
  },
  {
   "cell_type": "code",
   "execution_count": 15,
   "metadata": {},
   "outputs": [],
   "source": [
    "def build_tree(df):\n",
    "    Class = df.keys()[-1]\n",
    "    node = find_max_gain(df)\n",
    "    #print(\"max gain node: \", node)\n",
    "    values = df[node].unique()\n",
    "    #print(\"values of\",node,\" \",values)\n",
    "    try:\n",
    "        tree\n",
    "    except:\n",
    "        tree = {}\n",
    "    try:\n",
    "        tree[node]\n",
    "    except:\n",
    "        tree[node] = {}\n",
    "    for value in values:\n",
    "        subtable = sub_table(df, node, value)\n",
    "        #print(subtable)\n",
    "        clValue,counts = np.unique(subtable[Class],return_counts=True)\n",
    "        #print(clValue, \" \", counts)\n",
    "        if(len(counts) == 1):\n",
    "            #print(tree)\n",
    "            tree[node][value] = clValue[0]\n",
    "            #print(tree)\n",
    "        else:\n",
    "            tree[node][value] = build_tree(subtable)\n",
    "    return tree\n",
    "        "
   ]
  },
  {
   "cell_type": "code",
   "execution_count": 16,
   "metadata": {},
   "outputs": [],
   "source": [
    "tree = {}\n",
    "tree = build_tree(df)"
   ]
  },
  {
   "cell_type": "code",
   "execution_count": 17,
   "metadata": {},
   "outputs": [],
   "source": [
    "import pprint"
   ]
  },
  {
   "cell_type": "code",
   "execution_count": 18,
   "metadata": {},
   "outputs": [
    {
     "name": "stdout",
     "output_type": "stream",
     "text": [
      "{'Pat': {'Full': {'Hun': {'No': 'No',\n",
      "                          'Yes': {'Type': {'Burger': 'Yes',\n",
      "                                           'Italian': 'No',\n",
      "                                           'Thai': {'Fri': {'No': 'No',\n",
      "                                                            'Yes': 'Yes'}}}}}},\n",
      "         'None': 'No',\n",
      "         'Some': 'Yes'}}\n"
     ]
    }
   ],
   "source": [
    "pprint.pprint(tree)"
   ]
  }
 ],
 "metadata": {
  "kernelspec": {
   "display_name": "Python 3",
   "language": "python",
   "name": "python3"
  },
  "language_info": {
   "codemirror_mode": {
    "name": "ipython",
    "version": 3
   },
   "file_extension": ".py",
   "mimetype": "text/x-python",
   "name": "python",
   "nbconvert_exporter": "python",
   "pygments_lexer": "ipython3",
   "version": "3.7.4"
  }
 },
 "nbformat": 4,
 "nbformat_minor": 2
}
